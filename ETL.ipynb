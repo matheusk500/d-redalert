{
 "cells": [
  {
   "cell_type": "code",
   "execution_count": 60,
   "id": "c13221ae",
   "metadata": {},
   "outputs": [],
   "source": [
    "import pandas as pd\n",
    "from datetime import datetime"
   ]
  },
  {
   "cell_type": "code",
   "execution_count": 111,
   "id": "72ac2a95",
   "metadata": {},
   "outputs": [],
   "source": [
    "db_prescricao = pd.read_excel('Dados\\Prescricao.xlsx')"
   ]
  },
  {
   "cell_type": "code",
   "execution_count": 112,
   "id": "e268af38",
   "metadata": {},
   "outputs": [],
   "source": [
    "db_prescricao.columns = ['sistema', 'instancia',\n",
    "       '%ID_PROCESSO_TRF_PRESCRICAO', 'secao_judiciaria',\n",
    "       'classe_judicial', 'numero_processo',\n",
    "       'data_inicio_processo', 'data_entrada_processo',\n",
    "       'data_1_distribuicao', 'flag_pendente',\n",
    "       'flag_sobrestado', 'serventia',\n",
    "       'flag_baixado_julgado', 'movimento',\n",
    "       'cpf_magistardo', 'cnj_magistrado',\n",
    "       'magistrado', 'assunto', 'tarefa']\n"
   ]
  },
  {
   "cell_type": "code",
   "execution_count": 113,
   "id": "245a5066",
   "metadata": {},
   "outputs": [
    {
     "data": {
      "text/plain": [
       "886"
      ]
     },
     "execution_count": 113,
     "metadata": {},
     "output_type": "execute_result"
    }
   ],
   "source": [
    "total_processos = len(db_prescricao['%ID_PROCESSO_TRF_PRESCRICAO'].unique())\n",
    "total_processos"
   ]
  },
  {
   "cell_type": "code",
   "execution_count": 115,
   "id": "14b6d50a",
   "metadata": {},
   "outputs": [
    {
     "name": "stderr",
     "output_type": "stream",
     "text": [
      "C:\\Users\\mathe\\AppData\\Local\\Temp\\ipykernel_31040\\1871607903.py:10: SettingWithCopyWarning: \n",
      "A value is trying to be set on a copy of a slice from a DataFrame\n",
      "\n",
      "See the caveats in the documentation: https://pandas.pydata.org/pandas-docs/stable/user_guide/indexing.html#returning-a-view-versus-a-copy\n",
      "  db_prescricao['dias_faltantes_prescricao'][index] = (row['data_inicio_processos_lei'] - pd.Timestamp.now()).days\n"
     ]
    }
   ],
   "source": [
    "def dataPosLei(data):\n",
    "    if data['data_inicio_processo'] < pd.to_datetime('2021-10-26'):\n",
    "        return pd.to_datetime('2021-10-26') + pd.DateOffset(months=48)\n",
    "    else:\n",
    "        return data['data_inicio_processo'] + pd.DateOffset(months=48)\n",
    "    \n",
    "db_prescricao['data_inicio_processos_lei'] = db_prescricao.apply(dataPosLei, axis=1)\n",
    "db_prescricao['dias_faltantes_prescricao'] = \"\"\n",
    "for index,row in db_prescricao.iterrows():\n",
    "    db_prescricao['dias_faltantes_prescricao'][index] = (row['data_inicio_processos_lei'] - pd.Timestamp.now()).days"
   ]
  },
  {
   "cell_type": "code",
   "execution_count": 119,
   "id": "be1afe96",
   "metadata": {},
   "outputs": [
    {
     "data": {
      "text/plain": [
       "Index(['sistema', 'instancia', '%ID_PROCESSO_TRF_PRESCRICAO',\n",
       "       'secao_judiciaria', 'classe_judicial', 'numero_processo',\n",
       "       'data_inicio_processo', 'data_entrada_processo', 'data_1_distribuicao',\n",
       "       'flag_pendente', 'flag_sobrestado', 'serventia', 'flag_baixado_julgado',\n",
       "       'movimento', 'cpf_magistardo', 'cnj_magistrado', 'magistrado',\n",
       "       'assunto', 'tarefa', 'data_inicio_processos_lei',\n",
       "       'dias_faltantes_prescricao'],\n",
       "      dtype='object')"
      ]
     },
     "execution_count": 119,
     "metadata": {},
     "output_type": "execute_result"
    }
   ],
   "source": [
    "db_prescricao.columns"
   ]
  },
  {
   "cell_type": "code",
   "execution_count": 189,
   "id": "e18e0eee",
   "metadata": {},
   "outputs": [],
   "source": [
    "df_prescricao = db_prescricao.copy()"
   ]
  },
  {
   "cell_type": "code",
   "execution_count": 190,
   "id": "8f144dd6",
   "metadata": {},
   "outputs": [
    {
     "data": {
      "text/plain": [
       "58"
      ]
     },
     "execution_count": 190,
     "metadata": {},
     "output_type": "execute_result"
    }
   ],
   "source": [
    "processos_menos_1 = len(df_prescricao[df_prescricao['dias_faltantes_prescricao'] <= 365]['%ID_PROCESSO_TRF_PRESCRICAO'].unique())\n",
    "processos_menos_2 = len(df_prescricao[(df_prescricao['dias_faltantes_prescricao'] >= 366) & (df_prescricao['dias_faltantes_prescricao'] <= 730)]['%ID_PROCESSO_TRF_PRESCRICAO'].unique())\n",
    "processos_menos_3 = len(df_prescricao[(df_prescricao['dias_faltantes_prescricao'] >= 731) & (df_prescricao['dias_faltantes_prescricao'] <= 1095)]['%ID_PROCESSO_TRF_PRESCRICAO'].unique())\n",
    "processos_menos_3\n",
    "\n"
   ]
  },
  {
   "cell_type": "code",
   "execution_count": 192,
   "id": "4b16e5f9",
   "metadata": {},
   "outputs": [
    {
     "data": {
      "text/plain": [
       "Index(['sistema', 'instancia', '%ID_PROCESSO_TRF_PRESCRICAO',\n",
       "       'secao_judiciaria', 'classe_judicial', 'numero_processo',\n",
       "       'data_inicio_processo', 'data_entrada_processo', 'data_1_distribuicao',\n",
       "       'flag_pendente', 'flag_sobrestado', 'serventia', 'flag_baixado_julgado',\n",
       "       'movimento', 'cpf_magistardo', 'cnj_magistrado', 'magistrado',\n",
       "       'assunto', 'tarefa', 'data_inicio_processos_lei',\n",
       "       'dias_faltantes_prescricao'],\n",
       "      dtype='object')"
      ]
     },
     "execution_count": 192,
     "metadata": {},
     "output_type": "execute_result"
    }
   ],
   "source": [
    "df_prescricao.columns"
   ]
  },
  {
   "cell_type": "code",
   "execution_count": 197,
   "id": "97a3772a",
   "metadata": {},
   "outputs": [
    {
     "data": {
      "text/plain": [
       "['sistema',\n",
       " 'instancia',\n",
       " '%ID_PROCESSO_TRF_PRESCRICAO',\n",
       " 'secao_judiciaria',\n",
       " 'classe_judicial',\n",
       " 'numero_processo',\n",
       " 'data_inicio_processo',\n",
       " 'data_entrada_processo',\n",
       " 'data_1_distribuicao',\n",
       " 'flag_pendente',\n",
       " 'flag_sobrestado',\n",
       " 'serventia',\n",
       " 'flag_baixado_julgado',\n",
       " 'movimento',\n",
       " 'cpf_magistardo',\n",
       " 'cnj_magistrado',\n",
       " 'magistrado',\n",
       " 'assunto',\n",
       " 'tarefa',\n",
       " 'data_inicio_processos_lei',\n",
       " 'dias_faltantes_prescricao']"
      ]
     },
     "execution_count": 197,
     "metadata": {},
     "output_type": "execute_result"
    }
   ],
   "source": [
    "df_prescricao[['numero_processo','secao_judiciaria']]."
   ]
  },
  {
   "cell_type": "code",
   "execution_count": 5,
   "id": "45de68b0",
   "metadata": {},
   "outputs": [],
   "source": [
    "import pandas as pd\n",
    "\n",
    "db_prescricao = pd.read_excel('Dados\\Movimentacao_2024.xlsx')\n"
   ]
  },
  {
   "cell_type": "code",
   "execution_count": 7,
   "id": "b5cd6fee",
   "metadata": {},
   "outputs": [],
   "source": [
    "df_prescricao = db_prescricao.copy()\n",
    "df_prescricao['Data do ultimo movimento'] = pd.to_datetime(df_prescricao['Data do ultimo movimento']).dt.strftime('%d/%m/%Y %H:%M:%S')\n",
    "cols_selecionadas_tabela = ['Número do processo','Localização','Data do ultimo movimento','Dias sem movimentação','Instância','Movimento realizado','Tarefa realizada','Serventia Descrição Resumida','Magistrado','Classe Judicial','Preferência Legal']\n"
   ]
  },
  {
   "cell_type": "code",
   "execution_count": 10,
   "id": "c8b8e3c7",
   "metadata": {},
   "outputs": [
    {
     "data": {
      "text/html": [
       "<div>\n",
       "<style scoped>\n",
       "    .dataframe tbody tr th:only-of-type {\n",
       "        vertical-align: middle;\n",
       "    }\n",
       "\n",
       "    .dataframe tbody tr th {\n",
       "        vertical-align: top;\n",
       "    }\n",
       "\n",
       "    .dataframe thead th {\n",
       "        text-align: right;\n",
       "    }\n",
       "</style>\n",
       "<table border=\"1\" class=\"dataframe\">\n",
       "  <thead>\n",
       "    <tr style=\"text-align: right;\">\n",
       "      <th></th>\n",
       "      <th>Número do processo</th>\n",
       "      <th>Data do ultimo movimento</th>\n",
       "      <th>Dias sem movimentação</th>\n",
       "      <th>Movimento realizado</th>\n",
       "      <th>Tarefa realizada</th>\n",
       "      <th>Instância</th>\n",
       "      <th>Total de processos</th>\n",
       "      <th>Serventia Descrição Resumida</th>\n",
       "      <th>Localização</th>\n",
       "      <th>Magistrado</th>\n",
       "      <th>Localização.1</th>\n",
       "      <th>Classe Judicial</th>\n",
       "      <th>Preferência Legal</th>\n",
       "    </tr>\n",
       "  </thead>\n",
       "  <tbody>\n",
       "    <tr>\n",
       "      <th>0</th>\n",
       "      <td>0000001-04.2015.4.05.8400</td>\n",
       "      <td>24/05/2024 17:12:26</td>\n",
       "      <td>17</td>\n",
       "      <td>Juntada Cert</td>\n",
       "      <td>122 - Controlar Prazos</td>\n",
       "      <td>1º Grau</td>\n",
       "      <td>1</td>\n",
       "      <td>2ª Vara Federal</td>\n",
       "      <td>RN</td>\n",
       "      <td>LIANNE PEREIRA DA MOTTA PIRES OLIVEIRA</td>\n",
       "      <td>RN</td>\n",
       "      <td>10943 - AÇÃO PENAL - PROCEDIMENTO SUMÁRIO</td>\n",
       "      <td>-</td>\n",
       "    </tr>\n",
       "    <tr>\n",
       "      <th>1</th>\n",
       "      <td>0000001-04.2024.4.05.8104</td>\n",
       "      <td>06/02/2024 10:00:11</td>\n",
       "      <td>126</td>\n",
       "      <td>Decurso de Prazo</td>\n",
       "      <td>598 - [JEF] Perícia - Designar</td>\n",
       "      <td>JFE</td>\n",
       "      <td>1</td>\n",
       "      <td>22ª Vara Federal</td>\n",
       "      <td>CE</td>\n",
       "      <td>-</td>\n",
       "      <td>CE</td>\n",
       "      <td>436 - PROCEDIMENTO DO JUIZADO ESPECIAL CÍVEL</td>\n",
       "      <td>-</td>\n",
       "    </tr>\n",
       "  </tbody>\n",
       "</table>\n",
       "</div>"
      ],
      "text/plain": [
       "          Número do processo Data do ultimo movimento  Dias sem movimentação  \\\n",
       "0  0000001-04.2015.4.05.8400      24/05/2024 17:12:26                     17   \n",
       "1  0000001-04.2024.4.05.8104      06/02/2024 10:00:11                    126   \n",
       "\n",
       "  Movimento realizado                Tarefa realizada Instância  \\\n",
       "0        Juntada Cert          122 - Controlar Prazos   1º Grau   \n",
       "1    Decurso de Prazo  598 - [JEF] Perícia - Designar       JFE   \n",
       "\n",
       "   Total de processos Serventia Descrição Resumida Localização  \\\n",
       "0                   1              2ª Vara Federal          RN   \n",
       "1                   1             22ª Vara Federal          CE   \n",
       "\n",
       "                               Magistrado Localização.1  \\\n",
       "0  LIANNE PEREIRA DA MOTTA PIRES OLIVEIRA            RN   \n",
       "1                                       -            CE   \n",
       "\n",
       "                                Classe Judicial Preferência Legal  \n",
       "0     10943 - AÇÃO PENAL - PROCEDIMENTO SUMÁRIO                 -  \n",
       "1  436 - PROCEDIMENTO DO JUIZADO ESPECIAL CÍVEL                 -  "
      ]
     },
     "execution_count": 10,
     "metadata": {},
     "output_type": "execute_result"
    }
   ],
   "source": [
    "df_prescricao.head(2)"
   ]
  },
  {
   "cell_type": "code",
   "execution_count": 12,
   "id": "bbf42db3",
   "metadata": {},
   "outputs": [],
   "source": [
    "colunasFormatadas = [\n",
    "    {\"headerName\": \"Nº Processo\",\"field\": \"Número do processo\",'cellStyle': {'textAlign': 'center'}},\n",
    "    {\"headerName\": \"Seção judiciária\",\"field\": \"Localização\",'cellStyle': {'textAlign': 'center'}, \"filterParams\": { \"buttons\": [\"reset\", \"apply\"]}},\n",
    "    {\"headerName\": \"Vara\",\"field\": \"Serventia Descrição Resumida\",'cellStyle': {'textAlign': 'center'}, \"filterParams\": { \"buttons\": [\"reset\", \"apply\"]}},\n",
    "    {\"headerName\": \"Data do ultimo movimento\",\"field\": \"Data do ultimo movimento\",'cellStyle': {'textAlign': 'center'}},\n",
    "    {\"headerName\": \"Dias sem movimentação\",\"field\": \"Dias sem movimentação\",'cellStyle': {'textAlign': 'center'}},\n",
    "    {\"headerName\": \"Movimento realizado\",\"field\": \"Movimento realizado\",'cellStyle': {'textAlign': 'center'}},\n",
    "    {\"headerName\": \"Tarefa realizada\",\"field\": \"Tarefa realizada\",'cellStyle': {'textAlign': 'center'}},\n",
    "    {\"headerName\": \"Magistrado\",\"field\": \"Magistrado\"},\n",
    "    {\"headerName\": \"Classe Judicial\",\"field\": \"Classe Judicial\"}\n",
    "]"
   ]
  },
  {
   "cell_type": "code",
   "execution_count": 13,
   "id": "680f201c",
   "metadata": {},
   "outputs": [],
   "source": [
    "processos_menos_1 = len(df_prescricao[df_prescricao['Dias sem movimentação'] <= 365]['Número do processo'].unique())\n",
    "processos_menos_2 = len(df_prescricao[(df_prescricao['Dias sem movimentação'] >= 366) & (df_prescricao['Dias sem movimentação'] <= 730)]['Número do processo'].unique())\n",
    "processos_menos_3 = len(df_prescricao[(df_prescricao['Dias sem movimentação'] >= 731) & (df_prescricao['Dias sem movimentação'] <= 1095)]['Número do processo'].unique())\n",
    "\n",
    "percent_menos_1 = processos_menos_1/len(df_prescricao[df_prescricao['Dias sem movimentação'] > 0]['Número do processo'].unique())\n",
    "percent_menos_2 = processos_menos_2/len(df_prescricao[df_prescricao['Dias sem movimentação'] > 0]['Número do processo'].unique())\n",
    "percent_menos_3 = processos_menos_3/len(df_prescricao[df_prescricao['Dias sem movimentação'] > 0]['Número do processo'].unique())"
   ]
  },
  {
   "cell_type": "code",
   "execution_count": 16,
   "id": "75666ea6",
   "metadata": {},
   "outputs": [
    {
     "data": {
      "text/plain": [
       "0.9266783920203346"
      ]
     },
     "execution_count": 16,
     "metadata": {},
     "output_type": "execute_result"
    }
   ],
   "source": [
    "percent_menos_1"
   ]
  },
  {
   "cell_type": "code",
   "execution_count": null,
   "id": "dc3afb42",
   "metadata": {},
   "outputs": [],
   "source": []
  }
 ],
 "metadata": {
  "kernelspec": {
   "display_name": "Python 3 (ipykernel)",
   "language": "python",
   "name": "python3"
  },
  "language_info": {
   "codemirror_mode": {
    "name": "ipython",
    "version": 3
   },
   "file_extension": ".py",
   "mimetype": "text/x-python",
   "name": "python",
   "nbconvert_exporter": "python",
   "pygments_lexer": "ipython3",
   "version": "3.10.9"
  }
 },
 "nbformat": 4,
 "nbformat_minor": 5
}
